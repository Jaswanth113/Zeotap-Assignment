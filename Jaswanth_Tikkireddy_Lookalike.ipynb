{
 "cells": [
  {
   "cell_type": "code",
   "execution_count": 6,
   "id": "624a4853-bf6b-47a4-8b05-ee41a2474421",
   "metadata": {},
   "outputs": [],
   "source": [
    "# Merge data\n",
    "customer_transactions = transactions.merge(customers, on='CustomerID').merge(products, on='ProductID')"
   ]
  },
  {
   "cell_type": "code",
   "execution_count": 7,
   "id": "83537ad4-ba40-46d0-9b9f-cfecc6bc75f3",
   "metadata": {},
   "outputs": [],
   "source": [
    "import pandas as pd\n",
    "from sklearn.metrics.pairwise import cosine_similarity\n",
    "from sklearn.preprocessing import StandardScaler\n",
    "\n",
    "customers = pd.read_csv(r\"C:\\Users\\jaswa\\Desktop\\Zeotap\\Customers.csv\")\n",
    "products = pd.read_csv(r\"C:\\Users\\jaswa\\Desktop\\Zeotap\\Products.csv\")\n",
    "transactions = pd.read_csv(r\"C:\\Users\\jaswa\\Desktop\\Zeotap\\Transactions.csv\")\n",
    "\n",
    "customer_transactions = transactions.merge(customers, on='CustomerID').merge(products, on='ProductID')\n",
    "features = customer_transactions.groupby('CustomerID').agg({\n",
    "    'Quantity': 'sum',\n",
    "    'TotalValue': 'sum'\n",
    "}).reset_index()\n",
    "\n",
    "features['AveragePrice'] = features['TotalValue'] / features['Quantity']\n",
    "scaler = StandardScaler()\n",
    "scaled_features = scaler.fit_transform(features[['AveragePrice', 'Quantity', 'TotalValue']])\n",
    "similarity_matrix = cosine_similarity(scaled_features)\n",
    "similarity_df = pd.DataFrame(similarity_matrix, index=features['CustomerID'], columns=features['CustomerID'])"
   ]
  },
  {
   "cell_type": "code",
   "execution_count": 8,
   "id": "8338e90a-e94a-4509-9bb6-80ec97cfc677",
   "metadata": {},
   "outputs": [],
   "source": [
    "lookalikes = {}\n",
    "for customer in features['CustomerID'][:20]:\n",
    "    similar_customers = similarity_df[customer].nlargest(4).index[1:]  # Exclude self\n",
    "    scores = similarity_df[customer].nlargest(4).values[1:]  # Exclude self\n",
    "    lookalikes[customer] = list(zip(similar_customers, scores))\n",
    "\n",
    "lookalike_data = []\n",
    "for customer, similar in lookalikes.items():\n",
    "    row = [customer]  # Start with the customer ID\n",
    "    for sim in similar:\n",
    "        row.append(sim[0])  # Lookalike ID\n",
    "        row.append(sim[1])  # Similarity Score\n",
    "    # Fill with None if there are less than 3 lookalikes\n",
    "    while len(row) < 7:  # We want 1 customer ID + 3 lookalikes + 3 scores = 7 elements\n",
    "        row.append(None)\n",
    "    lookalike_data.append(row)\n",
    "\n",
    "lookalike_df = pd.DataFrame(lookalike_data, columns=['CustomerID', 'Lookalike1', 'Score1', 'Lookalike2', 'Score2', 'Lookalike3', 'Score3'])\n",
    "lookalike_df.to_csv(r\"C:\\Users\\jaswa\\Desktop\\Zeotap\\Lookalike.csv\", index=False)"
   ]
  }
 ],
 "metadata": {
  "kernelspec": {
   "display_name": "Python 3 (ipykernel)",
   "language": "python",
   "name": "python3"
  },
  "language_info": {
   "codemirror_mode": {
    "name": "ipython",
    "version": 3
   },
   "file_extension": ".py",
   "mimetype": "text/x-python",
   "name": "python",
   "nbconvert_exporter": "python",
   "pygments_lexer": "ipython3",
   "version": "3.10.0"
  }
 },
 "nbformat": 4,
 "nbformat_minor": 5
}
