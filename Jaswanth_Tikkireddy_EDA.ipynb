{
 "cells": [
  {
   "cell_type": "code",
   "execution_count": null,
   "id": "4b6ae7f1-2619-41ac-bbed-c36be340e293",
   "metadata": {},
   "outputs": [],
   "source": [
    "import pandas as pd\n",
    "\n",
    "# Load the datasets\n",
    "customers = pd.read_csv(r\"C:\\Users\\jaswa\\Desktop\\Zeotap\\Customers.csv\")\n",
    "products = pd.read_csv(r\"C:\\Users\\jaswa\\Desktop\\Zeotap\\Products.csv\")\n",
    "transactions = pd.read_csv(r\"C:\\Users\\jaswa\\Desktop\\Zeotap\\Transactions.csv\")"
   ]
  },
  {
   "cell_type": "code",
   "execution_count": null,
   "id": "1e64de5a-dc4a-4e22-99b9-e586a9d3e070",
   "metadata": {},
   "outputs": [],
   "source": [
    "# Basic statistics\n",
    "print(customers.describe())\n",
    "print(products.describe())\n",
    "print(transactions.describe())\n",
    "\n",
    "# missing values\n",
    "print(customers.isnull().sum())\n",
    "print(products.isnull().sum())\n",
    "print(transactions.isnull().sum())\n",
    "\n",
    "# Visualizations\n",
    "import matplotlib.pyplot as plt\n",
    "import seaborn as sns\n",
    "\n",
    "# Distribution of customers by region\n",
    "sns.countplot(data=customers, x='Region')\n",
    "plt.title('Customer Distribution by Region')\n",
    "plt.show()\n",
    "\n",
    "# Total sales by product category\n",
    "total_sales = transactions.groupby('ProductID')['TotalValue'].sum().reset_index()\n",
    "merged_sales = total_sales.merge(products, on='ProductID')\n",
    "sns.barplot(data=merged_sales, x='Category', y='TotalValue')\n",
    "plt.title('Total Sales by Product Category')\n",
    "plt.show()"
   ]
  }
 ],
 "metadata": {
  "kernelspec": {
   "display_name": "Python 3 (ipykernel)",
   "language": "python",
   "name": "python3"
  },
  "language_info": {
   "codemirror_mode": {
    "name": "ipython",
    "version": 3
   },
   "file_extension": ".py",
   "mimetype": "text/x-python",
   "name": "python",
   "nbconvert_exporter": "python",
   "pygments_lexer": "ipython3",
   "version": "3.10.0"
  }
 },
 "nbformat": 4,
 "nbformat_minor": 5
}
